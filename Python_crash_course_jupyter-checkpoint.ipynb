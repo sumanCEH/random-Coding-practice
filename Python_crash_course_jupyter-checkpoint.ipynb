{
 "cells": [
  {
   "cell_type": "markdown",
   "id": "12005016",
   "metadata": {},
   "source": [
    "# Data types\n",
    " \n",
    "# Numbers"
   ]
  },
  {
   "cell_type": "code",
   "execution_count": 1,
   "id": "1ffdde65",
   "metadata": {},
   "outputs": [
    {
     "data": {
      "text/plain": [
       "2"
      ]
     },
     "execution_count": 1,
     "metadata": {},
     "output_type": "execute_result"
    }
   ],
   "source": [
    "1+1"
   ]
  },
  {
   "cell_type": "code",
   "execution_count": 2,
   "id": "2fc32ad2",
   "metadata": {},
   "outputs": [
    {
     "data": {
      "text/plain": [
       "1"
      ]
     },
     "execution_count": 2,
     "metadata": {},
     "output_type": "execute_result"
    }
   ],
   "source": [
    "2-1"
   ]
  },
  {
   "cell_type": "code",
   "execution_count": 3,
   "id": "5d381870",
   "metadata": {},
   "outputs": [
    {
     "data": {
      "text/plain": [
       "1"
      ]
     },
     "execution_count": 3,
     "metadata": {},
     "output_type": "execute_result"
    }
   ],
   "source": [
    "(2+1)-(1+1)"
   ]
  },
  {
   "cell_type": "code",
   "execution_count": 4,
   "id": "586b77a4",
   "metadata": {},
   "outputs": [],
   "source": [
    "a=2\n",
    "b=3\n",
    "c=5"
   ]
  },
  {
   "cell_type": "code",
   "execution_count": 5,
   "id": "7ed598ac",
   "metadata": {},
   "outputs": [
    {
     "name": "stdout",
     "output_type": "stream",
     "text": [
      "10\n"
     ]
    }
   ],
   "source": [
    "print(a+b+c)"
   ]
  },
  {
   "cell_type": "code",
   "execution_count": 6,
   "id": "45929bab",
   "metadata": {},
   "outputs": [
    {
     "name": "stdout",
     "output_type": "stream",
     "text": [
      "3\n"
     ]
    }
   ],
   "source": [
    "print(b)"
   ]
  },
  {
   "cell_type": "markdown",
   "id": "2455a19f",
   "metadata": {},
   "source": [
    "# Strings"
   ]
  },
  {
   "cell_type": "code",
   "execution_count": 7,
   "id": "87c946aa",
   "metadata": {},
   "outputs": [
    {
     "data": {
      "text/plain": [
       "'suman'"
      ]
     },
     "execution_count": 7,
     "metadata": {},
     "output_type": "execute_result"
    }
   ],
   "source": [
    "\"suman\""
   ]
  },
  {
   "cell_type": "code",
   "execution_count": 8,
   "id": "4ce9fdbd",
   "metadata": {},
   "outputs": [
    {
     "data": {
      "text/plain": [
       "'suman2'"
      ]
     },
     "execution_count": 8,
     "metadata": {},
     "output_type": "execute_result"
    }
   ],
   "source": [
    "'suman2'"
   ]
  },
  {
   "cell_type": "code",
   "execution_count": 10,
   "id": "ce2aa425",
   "metadata": {},
   "outputs": [
    {
     "data": {
      "text/plain": [
       "\"hello ' World\""
      ]
     },
     "execution_count": 10,
     "metadata": {},
     "output_type": "execute_result"
    }
   ],
   "source": [
    "\"hello ' World\""
   ]
  },
  {
   "cell_type": "markdown",
   "id": "88867c44",
   "metadata": {},
   "source": [
    "# printing"
   ]
  },
  {
   "cell_type": "code",
   "execution_count": 12,
   "id": "8e5e79e7",
   "metadata": {},
   "outputs": [],
   "source": [
    "age=22\n",
    "company=\"Capgemini\"\n",
    "role=\"Analyst\""
   ]
  },
  {
   "cell_type": "code",
   "execution_count": 13,
   "id": "f8ca707c",
   "metadata": {},
   "outputs": [
    {
     "data": {
      "text/plain": [
       "22"
      ]
     },
     "execution_count": 13,
     "metadata": {},
     "output_type": "execute_result"
    }
   ],
   "source": [
    "age"
   ]
  },
  {
   "cell_type": "code",
   "execution_count": 14,
   "id": "ccce9e3a",
   "metadata": {},
   "outputs": [
    {
     "name": "stdout",
     "output_type": "stream",
     "text": [
      "Capgemini\n"
     ]
    }
   ],
   "source": [
    "print(company)"
   ]
  },
  {
   "cell_type": "code",
   "execution_count": 15,
   "id": "71559247",
   "metadata": {},
   "outputs": [
    {
     "name": "stdout",
     "output_type": "stream",
     "text": [
      "my age is 22 , i am working on Capgemini company , and my job role is Analyst\n"
     ]
    }
   ],
   "source": [
    "print(\"my age is {} , i am working on {} company , and my job role is {}\".format(age,company,role))"
   ]
  },
  {
   "cell_type": "markdown",
   "id": "3cae2778",
   "metadata": {},
   "source": [
    "\n",
    "# List"
   ]
  },
  {
   "cell_type": "code",
   "execution_count": 17,
   "id": "ce7db191",
   "metadata": {},
   "outputs": [
    {
     "data": {
      "text/plain": [
       "[1, 2, 3]"
      ]
     },
     "execution_count": 17,
     "metadata": {},
     "output_type": "execute_result"
    }
   ],
   "source": [
    "[1,2,3]"
   ]
  },
  {
   "cell_type": "code",
   "execution_count": 18,
   "id": "18035f68",
   "metadata": {},
   "outputs": [
    {
     "data": {
      "text/plain": [
       "[1, 2, 'hi', 4]"
      ]
     },
     "execution_count": 18,
     "metadata": {},
     "output_type": "execute_result"
    }
   ],
   "source": [
    "[1,2,\"hi\",4]"
   ]
  },
  {
   "cell_type": "code",
   "execution_count": 19,
   "id": "656336be",
   "metadata": {},
   "outputs": [],
   "source": [
    "my_list = [\"hi\",\"hello\",\"hola\"]"
   ]
  },
  {
   "cell_type": "code",
   "execution_count": 20,
   "id": "e0834cba",
   "metadata": {},
   "outputs": [
    {
     "data": {
      "text/plain": [
       "['hi', 'hello', 'hola']"
      ]
     },
     "execution_count": 20,
     "metadata": {},
     "output_type": "execute_result"
    }
   ],
   "source": [
    "my_list"
   ]
  },
  {
   "cell_type": "code",
   "execution_count": 21,
   "id": "0aedc2ee",
   "metadata": {},
   "outputs": [
    {
     "data": {
      "text/plain": [
       "'hola'"
      ]
     },
     "execution_count": 21,
     "metadata": {},
     "output_type": "execute_result"
    }
   ],
   "source": [
    "my_list[2]"
   ]
  },
  {
   "cell_type": "code",
   "execution_count": 26,
   "id": "b6280553",
   "metadata": {},
   "outputs": [],
   "source": [
    "my_list.append (\"namashte\")"
   ]
  },
  {
   "cell_type": "code",
   "execution_count": 27,
   "id": "896b4a81",
   "metadata": {},
   "outputs": [
    {
     "name": "stdout",
     "output_type": "stream",
     "text": [
      "['hi', 'hello', 'hola', 'namaste', 'namashte']\n"
     ]
    }
   ],
   "source": [
    "print(my_list)"
   ]
  },
  {
   "cell_type": "code",
   "execution_count": 28,
   "id": "c5260d92",
   "metadata": {},
   "outputs": [],
   "source": [
    "my_list.remove(my_list[3])"
   ]
  },
  {
   "cell_type": "code",
   "execution_count": 29,
   "id": "db293955",
   "metadata": {},
   "outputs": [
    {
     "data": {
      "text/plain": [
       "['hi', 'hello', 'hola', 'namashte']"
      ]
     },
     "execution_count": 29,
     "metadata": {},
     "output_type": "execute_result"
    }
   ],
   "source": [
    "my_list"
   ]
  },
  {
   "cell_type": "markdown",
   "id": "03961007",
   "metadata": {},
   "source": [
    "# Dictionaries"
   ]
  },
  {
   "cell_type": "code",
   "execution_count": 31,
   "id": "95cdebc3",
   "metadata": {},
   "outputs": [],
   "source": [
    "my_dic={\"name\":\"suman\",\"laptop\":\"asus\", \"age\": 22}"
   ]
  },
  {
   "cell_type": "code",
   "execution_count": 32,
   "id": "d4c72f76",
   "metadata": {},
   "outputs": [
    {
     "data": {
      "text/plain": [
       "{'name': 'suman', 'laptop': 'asus', 'age': 22}"
      ]
     },
     "execution_count": 32,
     "metadata": {},
     "output_type": "execute_result"
    }
   ],
   "source": [
    "my_dic"
   ]
  },
  {
   "cell_type": "code",
   "execution_count": 35,
   "id": "ee7faf17",
   "metadata": {},
   "outputs": [
    {
     "data": {
      "text/plain": [
       "'suman'"
      ]
     },
     "execution_count": 35,
     "metadata": {},
     "output_type": "execute_result"
    }
   ],
   "source": [
    "my_dic[\"name\"]"
   ]
  },
  {
   "cell_type": "code",
   "execution_count": 41,
   "id": "5d1e973b",
   "metadata": {},
   "outputs": [],
   "source": [
    "my_dic[\"age\"]=24"
   ]
  },
  {
   "cell_type": "code",
   "execution_count": 46,
   "id": "98bb8251",
   "metadata": {},
   "outputs": [
    {
     "name": "stdout",
     "output_type": "stream",
     "text": [
      "{'name': 'suman', 'laptop': 'asus', 'age': 24}\n"
     ]
    }
   ],
   "source": [
    "print(my_dic)"
   ]
  },
  {
   "cell_type": "markdown",
   "id": "abbfc08f",
   "metadata": {},
   "source": [
    "# Booleans"
   ]
  },
  {
   "cell_type": "code",
   "execution_count": 47,
   "id": "5838a6e2",
   "metadata": {},
   "outputs": [
    {
     "data": {
      "text/plain": [
       "True"
      ]
     },
     "execution_count": 47,
     "metadata": {},
     "output_type": "execute_result"
    }
   ],
   "source": [
    "True"
   ]
  },
  {
   "cell_type": "code",
   "execution_count": 48,
   "id": "16c345a1",
   "metadata": {},
   "outputs": [
    {
     "data": {
      "text/plain": [
       "False"
      ]
     },
     "execution_count": 48,
     "metadata": {},
     "output_type": "execute_result"
    }
   ],
   "source": [
    "False"
   ]
  },
  {
   "cell_type": "markdown",
   "id": "2f3041c1",
   "metadata": {},
   "source": [
    "# Tuples"
   ]
  },
  {
   "cell_type": "code",
   "execution_count": 51,
   "id": "13463e0d",
   "metadata": {},
   "outputs": [
    {
     "name": "stdout",
     "output_type": "stream",
     "text": [
      "('a', 'b', 'c', 'd')\n"
     ]
    }
   ],
   "source": [
    "my_tup=(\"a\",\"b\",\"c\",\"d\")\n",
    "print(my_tup)"
   ]
  },
  {
   "cell_type": "code",
   "execution_count": 54,
   "id": "8e6755d4",
   "metadata": {},
   "outputs": [
    {
     "data": {
      "text/plain": [
       "('c',)"
      ]
     },
     "execution_count": 54,
     "metadata": {},
     "output_type": "execute_result"
    }
   ],
   "source": [
    "my_tup[2:3]"
   ]
  },
  {
   "cell_type": "code",
   "execution_count": 55,
   "id": "b47c89c1",
   "metadata": {},
   "outputs": [
    {
     "data": {
      "text/plain": [
       "('d',)"
      ]
     },
     "execution_count": 55,
     "metadata": {},
     "output_type": "execute_result"
    }
   ],
   "source": [
    "my_tup[3:4]"
   ]
  },
  {
   "cell_type": "code",
   "execution_count": 61,
   "id": "c7a6f4e4",
   "metadata": {},
   "outputs": [
    {
     "data": {
      "text/plain": [
       "('a', 'b', 'c')"
      ]
     },
     "execution_count": 61,
     "metadata": {},
     "output_type": "execute_result"
    }
   ],
   "source": [
    "my_tup[0:3]"
   ]
  },
  {
   "cell_type": "markdown",
   "id": "f8a3a99f",
   "metadata": {},
   "source": [
    "# Sets"
   ]
  },
  {
   "cell_type": "code",
   "execution_count": 62,
   "id": "645e82ce",
   "metadata": {},
   "outputs": [
    {
     "name": "stdout",
     "output_type": "stream",
     "text": [
      "{1, 2, 3, 4, 5, 6}\n"
     ]
    }
   ],
   "source": [
    "my_set={1,2,3,4,5,6}\n",
    "print(my_set)"
   ]
  },
  {
   "cell_type": "code",
   "execution_count": 67,
   "id": "9b94fe29",
   "metadata": {},
   "outputs": [
    {
     "name": "stdout",
     "output_type": "stream",
     "text": [
      "{1, 2, 3, 4, 5, 6, 7}\n"
     ]
    }
   ],
   "source": [
    "my_set.add(7)\n",
    "print(my_set)"
   ]
  },
  {
   "cell_type": "code",
   "execution_count": 70,
   "id": "4df56454",
   "metadata": {},
   "outputs": [
    {
     "name": "stdout",
     "output_type": "stream",
     "text": [
      "7\n"
     ]
    }
   ],
   "source": [
    "print(len(my_set))"
   ]
  },
  {
   "cell_type": "code",
   "execution_count": 71,
   "id": "6e2275d3",
   "metadata": {},
   "outputs": [
    {
     "name": "stdout",
     "output_type": "stream",
     "text": [
      "28\n"
     ]
    }
   ],
   "source": [
    "print(sum(my_set))"
   ]
  },
  {
   "cell_type": "markdown",
   "id": "f5ac273a",
   "metadata": {},
   "source": [
    "# If Else"
   ]
  },
  {
   "cell_type": "code",
   "execution_count": 72,
   "id": "7ccd2de9",
   "metadata": {},
   "outputs": [
    {
     "name": "stdout",
     "output_type": "stream",
     "text": [
      "a=25\n"
     ]
    }
   ],
   "source": [
    "a=25\n",
    "if(a==25):\n",
    "    print(\"a=25\")\n",
    "else:\n",
    "    print(\"a is not 25\")"
   ]
  },
  {
   "cell_type": "markdown",
   "id": "ab01108d",
   "metadata": {},
   "source": [
    "# For Loop"
   ]
  },
  {
   "cell_type": "code",
   "execution_count": null,
   "id": "72b4603b",
   "metadata": {},
   "outputs": [],
   "source": [
    "frist_list = [1,2,3,4,5,6,7]"
   ]
  },
  {
   "cell_type": "code",
   "execution_count": null,
   "id": "516d525b",
   "metadata": {},
   "outputs": [],
   "source": [
    "for item in  frist_list:\n",
    "    print(frist_list)"
   ]
  },
  {
   "cell_type": "code",
   "execution_count": null,
   "id": "b11723dc",
   "metadata": {},
   "outputs": [],
   "source": []
  }
 ],
 "metadata": {
  "kernelspec": {
   "display_name": "Python 3 (ipykernel)",
   "language": "python",
   "name": "python3"
  },
  "language_info": {
   "codemirror_mode": {
    "name": "ipython",
    "version": 3
   },
   "file_extension": ".py",
   "mimetype": "text/x-python",
   "name": "python",
   "nbconvert_exporter": "python",
   "pygments_lexer": "ipython3",
   "version": "3.9.7"
  }
 },
 "nbformat": 4,
 "nbformat_minor": 5
}
